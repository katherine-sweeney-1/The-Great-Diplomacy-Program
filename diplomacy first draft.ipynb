{
 "cells": [
  {
   "cell_type": "code",
   "execution_count": 34,
   "metadata": {},
   "outputs": [],
   "source": [
    "class nodes():\n",
    "    \n",
    "    def __init__(self, territory, adj_territories):\n",
    "        self.territory = territory\n",
    "        self.nbrs = adj_territories\n",
    "        \n",
    "    def check_dot(self, has_dot):\n",
    "        print(self.territory, self.nbrs)\n",
    "        if has_dot == \"dot\":\n",
    "            print(\"{} has a dot\".format(self.territory))\n",
    "        else:\n",
    "            print(\"{} does not have a dot\".format(self.territory))"
   ]
  },
  {
   "cell_type": "code",
   "execution_count": 35,
   "metadata": {},
   "outputs": [
    {
     "name": "stdout",
     "output_type": "stream",
     "text": [
      "Tyr ['Vie', 'Tri', 'Boh']\n",
      "Tyr does not have a dot\n",
      "Vie ['Tyr', 'Boh', 'Tri', 'Gal']\n",
      "Vie has a dot\n",
      "Mun ['Boh', 'Tyr', 'Bur', 'Sil']\n",
      "Mun has a dot\n"
     ]
    }
   ],
   "source": [
    "imperial_map = {\n",
    "    \"Tyr\": [\"Vie\", \"Tri\", \"Boh\"],\n",
    "    \"Vie\": [\"Tyr\", \"Boh\", \"Tri\", \"Gal\"],\n",
    "    \"Mun\": [\"Boh\", \"Tyr\", \"Bur\", \"Sil\"]\n",
    "}\n",
    "\n",
    "imperial_dots = {\n",
    "\"Tyr\": \"no dot\",\n",
    "\"Vie\": \"dot\",\n",
    "\"Mun\": \"dot\"\n",
    "}\n",
    "\n",
    "for (key1, key2) in zip(imperial_map, imperial_dots):\n",
    "    indiv_node = nodes(key1, imperial_map[key1])\n",
    "    dot_status = indiv_node.check_dot(imperial_dots[key2])"
   ]
  },
  {
   "cell_type": "code",
   "execution_count": null,
   "metadata": {},
   "outputs": [],
   "source": []
  }
 ],
 "metadata": {
  "kernelspec": {
   "display_name": "Python 3",
   "language": "python",
   "name": "python3"
  },
  "language_info": {
   "codemirror_mode": {
    "name": "ipython",
    "version": 3
   },
   "file_extension": ".py",
   "mimetype": "text/x-python",
   "name": "python",
   "nbconvert_exporter": "python",
   "pygments_lexer": "ipython3",
   "version": "3.7.6"
  }
 },
 "nbformat": 4,
 "nbformat_minor": 4
}
